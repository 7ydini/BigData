{
  "nbformat": 4,
  "nbformat_minor": 0,
  "metadata": {
    "colab": {
      "provenance": [],
      "include_colab_link": true
    },
    "kernelspec": {
      "name": "python3",
      "display_name": "Python 3"
    },
    "language_info": {
      "name": "python"
    }
  },
  "cells": [
    {
      "cell_type": "markdown",
      "metadata": {
        "id": "view-in-github",
        "colab_type": "text"
      },
      "source": [
        "<a href=\"https://colab.research.google.com/github/7ydini/BigData/blob/main/BIG_DATA_lab1.ipynb\" target=\"_parent\"><img src=\"https://colab.research.google.com/assets/colab-badge.svg\" alt=\"Open In Colab\"/></a>"
      ]
    },
    {
      "cell_type": "markdown",
      "metadata": {
        "id": "AFIrYeZumSKm"
      },
      "source": [
        "лаб 1"
      ]
    },
    {
      "cell_type": "markdown",
      "metadata": {
        "id": "Sodh5ojFvKb9"
      },
      "source": [
        "примеры кода: факторизация"
      ]
    },
    {
      "cell_type": "code",
      "metadata": {
        "id": "doWin9r5x2vY"
      },
      "source": [
        "# names = ['vehicleType', 'gearbox', 'model', 'fuelType', 'brand', 'notRepairedDamage']\n",
        "# for name in names:\n",
        "#     df[name] = pd.factorize(df[name])[0]\n",
        "# df.head()"
      ],
      "execution_count": null,
      "outputs": []
    },
    {
      "cell_type": "code",
      "metadata": {
        "id": "saM3JUcex6il"
      },
      "source": [
        "# df = df.reset_index(drop=True)\n",
        "# df.head()"
      ],
      "execution_count": null,
      "outputs": []
    },
    {
      "cell_type": "markdown",
      "metadata": {
        "id": "kjI4kV_Qx93h"
      },
      "source": [
        "непосредственно лаба:---------------------------------------------------------------------------------------------------------------------"
      ]
    },
    {
      "cell_type": "code",
      "metadata": {
        "id": "XzZBc7xEyA8p"
      },
      "source": [
        "import pandas as pd\n",
        "import numpy as np\n",
        "import matplotlib.pyplot as plt\n",
        "import copy\n",
        "import seaborn as sns\n",
        "\n",
        "from sklearn import ensemble\n",
        "from sklearn.ensemble import RandomForestClassifier\n",
        "from sklearn.metrics import accuracy_score\n",
        "from sklearn.model_selection import train_test_split\n",
        "\n",
        "from keras.utils import to_categorical\n",
        "from keras import models\n",
        "from keras import layers\n",
        "\n",
        "import warnings\n",
        "warnings.filterwarnings(\"ignore\")"
      ],
      "execution_count": null,
      "outputs": []
    },
    {
      "cell_type": "code",
      "metadata": {
        "id": "v56PtiSY9AMj"
      },
      "source": [
        "%%capture\n",
        "!wget https://www.dropbox.com/s/5b6o99k5ko6cr1r/train_1.csv\n",
        "!wget https://www.dropbox.com/s/br8m56fomdxs7lw/train_2.csv\n",
        "!wget https://www.dropbox.com/s/xmw5shslewwfi0n/test_1.csv\n",
        "!wget https://www.dropbox.com/s/uxxc48au1zclpu2/test_2.csv"
      ],
      "execution_count": null,
      "outputs": []
    },
    {
      "cell_type": "code",
      "metadata": {
        "id": "EqeHnvoy9E-m",
        "colab": {
          "base_uri": "https://localhost:8080/"
        },
        "outputId": "bf8e9229-43d9-45c6-d209-330e632d7625"
      },
      "source": [
        "df = pd.read_csv('train_1.csv')\n",
        "df.isnull().any()"
      ],
      "execution_count": null,
      "outputs": [
        {
          "output_type": "execute_result",
          "data": {
            "text/plain": [
              "service_type              False\n",
              "is_mix_service            False\n",
              "online_time               False\n",
              "1_total_fee               False\n",
              "2_total_fee               False\n",
              "3_total_fee               False\n",
              "4_total_fee               False\n",
              "month_traffic             False\n",
              "many_over_bill            False\n",
              "contract_type             False\n",
              "contract_time             False\n",
              "is_promise_low_consume    False\n",
              "net_service               False\n",
              "pay_times                 False\n",
              "pay_num                   False\n",
              "last_month_traffic        False\n",
              "local_trafffic_month      False\n",
              "local_caller_time         False\n",
              "service1_caller_time      False\n",
              "service2_caller_time      False\n",
              "gender                    False\n",
              "age                       False\n",
              "complaint_level           False\n",
              "former_complaint_num      False\n",
              "former_complaint_fee      False\n",
              "current_service           False\n",
              "user_id                   False\n",
              "dtype: bool"
            ]
          },
          "metadata": {},
          "execution_count": 4
        }
      ]
    },
    {
      "cell_type": "code",
      "metadata": {
        "id": "lz_U-oENSeJA",
        "colab": {
          "base_uri": "https://localhost:8080/"
        },
        "outputId": "46d28bef-dd69-45cd-c941-36549476f7cb"
      },
      "source": [
        "dft = pd.read_csv('test_1.csv')\n",
        "dft.isnull().any()"
      ],
      "execution_count": null,
      "outputs": [
        {
          "output_type": "execute_result",
          "data": {
            "text/plain": [
              "service_type              False\n",
              "is_mix_service            False\n",
              "online_time               False\n",
              "1_total_fee               False\n",
              "2_total_fee               False\n",
              "3_total_fee               False\n",
              "4_total_fee               False\n",
              "month_traffic             False\n",
              "many_over_bill            False\n",
              "contract_type             False\n",
              "contract_time             False\n",
              "is_promise_low_consume    False\n",
              "net_service               False\n",
              "pay_times                 False\n",
              "pay_num                   False\n",
              "last_month_traffic        False\n",
              "local_trafffic_month      False\n",
              "local_caller_time         False\n",
              "service1_caller_time      False\n",
              "service2_caller_time      False\n",
              "gender                    False\n",
              "age                       False\n",
              "complaint_level           False\n",
              "former_complaint_num      False\n",
              "former_complaint_fee      False\n",
              "user_id                   False\n",
              "dtype: bool"
            ]
          },
          "metadata": {},
          "execution_count": 5
        }
      ]
    },
    {
      "cell_type": "markdown",
      "metadata": {
        "id": "jbfMyAFvHNNx"
      },
      "source": [
        "смотрим и чистим"
      ]
    },
    {
      "cell_type": "code",
      "metadata": {
        "id": "i9MZ0a5xHNhq",
        "colab": {
          "base_uri": "https://localhost:8080/"
        },
        "outputId": "a5fee5f4-33fc-4631-ede9-7f89d4df7fff"
      },
      "source": [
        "df.info()"
      ],
      "execution_count": null,
      "outputs": [
        {
          "output_type": "stream",
          "name": "stdout",
          "text": [
            "<class 'pandas.core.frame.DataFrame'>\n",
            "RangeIndex: 743990 entries, 0 to 743989\n",
            "Data columns (total 27 columns):\n",
            " #   Column                  Non-Null Count   Dtype  \n",
            "---  ------                  --------------   -----  \n",
            " 0   service_type            743990 non-null  int64  \n",
            " 1   is_mix_service          743990 non-null  int64  \n",
            " 2   online_time             743990 non-null  int64  \n",
            " 3   1_total_fee             743990 non-null  float64\n",
            " 4   2_total_fee             743990 non-null  object \n",
            " 5   3_total_fee             743990 non-null  object \n",
            " 6   4_total_fee             743990 non-null  float64\n",
            " 7   month_traffic           743990 non-null  float64\n",
            " 8   many_over_bill          743990 non-null  int64  \n",
            " 9   contract_type           743990 non-null  int64  \n",
            " 10  contract_time           743990 non-null  int64  \n",
            " 11  is_promise_low_consume  743990 non-null  int64  \n",
            " 12  net_service             743990 non-null  int64  \n",
            " 13  pay_times               743990 non-null  int64  \n",
            " 14  pay_num                 743990 non-null  float64\n",
            " 15  last_month_traffic      743990 non-null  float64\n",
            " 16  local_trafffic_month    743990 non-null  float64\n",
            " 17  local_caller_time       743990 non-null  float64\n",
            " 18  service1_caller_time    743990 non-null  float64\n",
            " 19  service2_caller_time    743990 non-null  float64\n",
            " 20  gender                  743990 non-null  object \n",
            " 21  age                     743990 non-null  object \n",
            " 22  complaint_level         743990 non-null  int64  \n",
            " 23  former_complaint_num    743990 non-null  int64  \n",
            " 24  former_complaint_fee    743990 non-null  float64\n",
            " 25  current_service         743990 non-null  int64  \n",
            " 26  user_id                 743990 non-null  object \n",
            "dtypes: float64(10), int64(12), object(5)\n",
            "memory usage: 153.3+ MB\n"
          ]
        }
      ]
    },
    {
      "cell_type": "code",
      "metadata": {
        "colab": {
          "base_uri": "https://localhost:8080/"
        },
        "id": "AI6GgCP-Smf-",
        "outputId": "64a6c8ff-ca4a-4dc0-856a-a3afe6c618c0"
      },
      "source": [
        "dft.info()"
      ],
      "execution_count": null,
      "outputs": [
        {
          "output_type": "stream",
          "name": "stdout",
          "text": [
            "<class 'pandas.core.frame.DataFrame'>\n",
            "RangeIndex: 200000 entries, 0 to 199999\n",
            "Data columns (total 26 columns):\n",
            " #   Column                  Non-Null Count   Dtype  \n",
            "---  ------                  --------------   -----  \n",
            " 0   service_type            200000 non-null  int64  \n",
            " 1   is_mix_service          200000 non-null  int64  \n",
            " 2   online_time             200000 non-null  int64  \n",
            " 3   1_total_fee             200000 non-null  float64\n",
            " 4   2_total_fee             200000 non-null  object \n",
            " 5   3_total_fee             200000 non-null  object \n",
            " 6   4_total_fee             200000 non-null  float64\n",
            " 7   month_traffic           200000 non-null  float64\n",
            " 8   many_over_bill          200000 non-null  int64  \n",
            " 9   contract_type           200000 non-null  int64  \n",
            " 10  contract_time           200000 non-null  int64  \n",
            " 11  is_promise_low_consume  200000 non-null  int64  \n",
            " 12  net_service             200000 non-null  int64  \n",
            " 13  pay_times               200000 non-null  int64  \n",
            " 14  pay_num                 200000 non-null  float64\n",
            " 15  last_month_traffic      200000 non-null  float64\n",
            " 16  local_trafffic_month    200000 non-null  float64\n",
            " 17  local_caller_time       200000 non-null  float64\n",
            " 18  service1_caller_time    200000 non-null  float64\n",
            " 19  service2_caller_time    200000 non-null  float64\n",
            " 20  gender                  200000 non-null  int64  \n",
            " 21  age                     200000 non-null  int64  \n",
            " 22  complaint_level         200000 non-null  int64  \n",
            " 23  former_complaint_num    200000 non-null  int64  \n",
            " 24  former_complaint_fee    200000 non-null  int64  \n",
            " 25  user_id                 200000 non-null  object \n",
            "dtypes: float64(9), int64(14), object(3)\n",
            "memory usage: 39.7+ MB\n"
          ]
        }
      ]
    },
    {
      "cell_type": "markdown",
      "metadata": {
        "id": "kNocmHK2KKFt"
      },
      "source": [
        "проверяем и изменяем содержимое"
      ]
    },
    {
      "cell_type": "code",
      "metadata": {
        "id": "XbPCmOzhSTTc"
      },
      "source": [
        "df = df.drop(df[df['gender']=='\\\\N'].index)\n",
        "df = df.drop(df[df['2_total_fee']=='\\\\N'].index)\n",
        "df = df.drop(df[df['3_total_fee']=='\\\\N'].index)"
      ],
      "execution_count": null,
      "outputs": []
    },
    {
      "cell_type": "code",
      "metadata": {
        "id": "BnHMgw4eSvhH"
      },
      "source": [
        "dft = dft.drop(dft[dft['gender']=='\\\\N'].index)\n",
        "dft = dft.drop(dft[dft['2_total_fee']=='\\\\N'].index)\n",
        "dft = dft.drop(dft[dft['3_total_fee']=='\\\\N'].index)"
      ],
      "execution_count": null,
      "outputs": []
    },
    {
      "cell_type": "code",
      "metadata": {
        "id": "p7Ky_Tn6R5wJ"
      },
      "source": [
        "df['gender'] = df['gender'].astype(int)"
      ],
      "execution_count": null,
      "outputs": []
    },
    {
      "cell_type": "code",
      "metadata": {
        "id": "MDYUL826UEwi"
      },
      "source": [
        "dft['gender'] = dft['gender'].astype(int)"
      ],
      "execution_count": null,
      "outputs": []
    },
    {
      "cell_type": "markdown",
      "metadata": {
        "id": "Xb1L7QsbUfDa"
      },
      "source": [
        "выкидывание 0 из гендера, стоит править"
      ]
    },
    {
      "cell_type": "code",
      "metadata": {
        "id": "Ab5Xz8B4UfYH"
      },
      "source": [
        "df = df.drop(df[df['gender']==0].index)"
      ],
      "execution_count": null,
      "outputs": []
    },
    {
      "cell_type": "code",
      "metadata": {
        "id": "D73akvLaUK_8"
      },
      "source": [
        "dft = dft.drop(dft[dft['gender']==0].index)"
      ],
      "execution_count": null,
      "outputs": []
    },
    {
      "cell_type": "code",
      "metadata": {
        "colab": {
          "base_uri": "https://localhost:8080/"
        },
        "id": "MrAxg5AUPGin",
        "outputId": "533aea62-091b-4249-8920-cbfbe2a7894f"
      },
      "source": [
        "df['gender'].value_counts()"
      ],
      "execution_count": null,
      "outputs": [
        {
          "output_type": "execute_result",
          "data": {
            "text/plain": [
              "1    504974\n",
              "2    216102\n",
              "Name: gender, dtype: int64"
            ]
          },
          "metadata": {},
          "execution_count": 14
        }
      ]
    },
    {
      "cell_type": "code",
      "metadata": {
        "colab": {
          "base_uri": "https://localhost:8080/"
        },
        "id": "-hGxwg7OKaes",
        "outputId": "18c6b777-f43b-49a8-f59d-3b8a657de6d7"
      },
      "source": [
        "df[df['pay_num']<400]['gender'].value_counts()"
      ],
      "execution_count": null,
      "outputs": [
        {
          "output_type": "execute_result",
          "data": {
            "text/plain": [
              "1    481086\n",
              "2    204848\n",
              "Name: gender, dtype: int64"
            ]
          },
          "metadata": {},
          "execution_count": 15
        }
      ]
    },
    {
      "cell_type": "code",
      "metadata": {
        "id": "eXEZzmvpKFEQ",
        "colab": {
          "base_uri": "https://localhost:8080/"
        },
        "outputId": "20843a01-0f0d-4757-cbed-fa7354424858"
      },
      "source": [
        "df['pay_num'].value_counts()"
      ],
      "execution_count": null,
      "outputs": [
        {
          "output_type": "execute_result",
          "data": {
            "text/plain": [
              "100.00     130515\n",
              "50.00      102504\n",
              "30.00       67165\n",
              "200.00      47107\n",
              "60.00       28107\n",
              "            ...  \n",
              "102.75          1\n",
              "45.05           1\n",
              "274.15          1\n",
              "113.76          1\n",
              "3258.05         1\n",
              "Name: pay_num, Length: 12544, dtype: int64"
            ]
          },
          "metadata": {},
          "execution_count": 16
        }
      ]
    },
    {
      "cell_type": "code",
      "metadata": {
        "id": "bSEix3aBWjBY",
        "colab": {
          "base_uri": "https://localhost:8080/",
          "height": 316
        },
        "outputId": "ef671224-8928-4a63-b0bc-49f2f89e2f67"
      },
      "source": [
        "df.hist(['pay_num'], range = [0, 400])"
      ],
      "execution_count": null,
      "outputs": [
        {
          "output_type": "execute_result",
          "data": {
            "text/plain": [
              "array([[<matplotlib.axes._subplots.AxesSubplot object at 0x7f3444697820>]],\n",
              "      dtype=object)"
            ]
          },
          "metadata": {},
          "execution_count": 17
        },
        {
          "output_type": "display_data",
          "data": {
            "text/plain": [
              "<Figure size 432x288 with 1 Axes>"
            ],
            "image/png": "[encoded data removed]"
          },
          "metadata": {
            "needs_background": "light"
          }
        }
      ]
    },
    {
      "cell_type": "markdown",
      "metadata": {
        "id": "mCY3QkV1MgCt"
      },
      "source": [
        "чистим ненужные столбцы"
      ]
    },
    {
      "cell_type": "code",
      "metadata": {
        "id": "3DDqjMx0MfR5"
      },
      "source": [
        "del df[\"user_id\"]\n",
        "del df[\"pay_times\"]"
      ],
      "execution_count": null,
      "outputs": []
    },
    {
      "cell_type": "code",
      "metadata": {
        "id": "hvCm4Eo8UPZa"
      },
      "source": [
        "del dft[\"user_id\"]\n",
        "del dft[\"pay_times\"]"
      ],
      "execution_count": null,
      "outputs": []
    },
    {
      "cell_type": "code",
      "metadata": {
        "colab": {
          "base_uri": "https://localhost:8080/"
        },
        "id": "ppg3Xnm1aD7O",
        "outputId": "f6258956-e708-4732-851c-e2bc219557e2"
      },
      "source": [
        "df[df['2_total_fee']!=df['3_total_fee']]['2_total_fee'].value_counts()"
      ],
      "execution_count": null,
      "outputs": [
        {
          "output_type": "execute_result",
          "data": {
            "text/plain": [
              "76.00     8507\n",
              "56.00     6672\n",
              "36.00     5548\n",
              "106.00    4797\n",
              "136.00    3465\n",
              "          ... \n",
              "508.66       1\n",
              "731.36       1\n",
              "356.63       1\n",
              "144.79       1\n",
              "0.59         1\n",
              "Name: 2_total_fee, Length: 44915, dtype: int64"
            ]
          },
          "metadata": {},
          "execution_count": 20
        }
      ]
    },
    {
      "cell_type": "code",
      "metadata": {
        "id": "CfUaHLSLaEET"
      },
      "source": [
        "df['2_total_fee'] = df['2_total_fee'].astype(float)\n",
        "df['3_total_fee'] = df['3_total_fee'].astype(float)\n",
        "df['age'] = df['age'].astype(int)"
      ],
      "execution_count": null,
      "outputs": []
    },
    {
      "cell_type": "code",
      "metadata": {
        "id": "PWNy2nLMJ97D"
      },
      "source": [
        "dft['2_total_fee'] = dft['2_total_fee'].astype(float)\n",
        "dft['3_total_fee'] = dft['3_total_fee'].astype(float)\n",
        "dft['age'] = dft['age'].astype(int)"
      ],
      "execution_count": null,
      "outputs": []
    },
    {
      "cell_type": "code",
      "metadata": {
        "id": "pmib7CkQb8qK",
        "colab": {
          "base_uri": "https://localhost:8080/"
        },
        "outputId": "f7283eaa-7d6f-4ba1-ab3a-9b3423a2348f"
      },
      "source": [
        "df[df['age']>200]['age'].count()"
      ],
      "execution_count": null,
      "outputs": [
        {
          "output_type": "execute_result",
          "data": {
            "text/plain": [
              "0"
            ]
          },
          "metadata": {},
          "execution_count": 23
        }
      ]
    },
    {
      "cell_type": "code",
      "metadata": {
        "id": "IUJDsxQFghoy",
        "colab": {
          "base_uri": "https://localhost:8080/"
        },
        "outputId": "3bdbc931-12e6-400b-b91e-f5f36ee70abc"
      },
      "source": [
        "df['age'].value_counts()"
      ],
      "execution_count": null,
      "outputs": [
        {
          "output_type": "execute_result",
          "data": {
            "text/plain": [
              "28    36831\n",
              "27    34460\n",
              "26    31504\n",
              "25    31132\n",
              "29    30986\n",
              "      ...  \n",
              "13        2\n",
              "90        2\n",
              "92        1\n",
              "93        1\n",
              "99        1\n",
              "Name: age, Length: 83, dtype: int64"
            ]
          },
          "metadata": {},
          "execution_count": 24
        }
      ]
    },
    {
      "cell_type": "code",
      "metadata": {
        "id": "rNmxJzhEcDC2",
        "colab": {
          "base_uri": "https://localhost:8080/",
          "height": 316
        },
        "outputId": "22ab6618-a830-4fce-ecc8-21ef27a4f085"
      },
      "source": [
        "df.hist(['age'])"
      ],
      "execution_count": null,
      "outputs": [
        {
          "output_type": "execute_result",
          "data": {
            "text/plain": [
              "array([[<matplotlib.axes._subplots.AxesSubplot object at 0x7f34445dd340>]],\n",
              "      dtype=object)"
            ]
          },
          "metadata": {},
          "execution_count": 25
        },
        {
          "output_type": "display_data",
          "data": {
            "text/plain": [
              "<Figure size 432x288 with 1 Axes>"
            ],
            "image/png": "[encoded data removed]"
          },
          "metadata": {
            "needs_background": "light"
          }
        }
      ]
    },
    {
      "cell_type": "markdown",
      "metadata": {
        "id": "DX98AXvZKeW4"
      },
      "source": [
        "исследуем итог:"
      ]
    },
    {
      "cell_type": "code",
      "metadata": {
        "id": "D-E4qmJLL2-R",
        "colab": {
          "base_uri": "https://localhost:8080/",
          "height": 343
        },
        "outputId": "12cb684f-11b4-4513-ba29-01ad9a1c8a08"
      },
      "source": [
        "cols = ['pay_num','1_total_fee','2_total_fee','3_total_fee','4_total_fee','gender', 'month_traffic']\n",
        "sns.heatmap(df[cols].corr(),cbar=True,annot=True)"
      ],
      "execution_count": null,
      "outputs": [
        {
          "output_type": "execute_result",
          "data": {
            "text/plain": [
              "<matplotlib.axes._subplots.AxesSubplot at 0x7f3440353eb0>"
            ]
          },
          "metadata": {},
          "execution_count": 26
        },
        {
          "output_type": "display_data",
          "data": {
            "text/plain": [
              "<Figure size 432x288 with 2 Axes>"
            ],
            "image/png": "[encoded data removed]"
          },
          "metadata": {
            "needs_background": "light"
          }
        }
      ]
    },
    {
      "cell_type": "markdown",
      "metadata": {
        "id": "xIBhjnsSbrb2"
      },
      "source": [
        "код"
      ]
    },
    {
      "cell_type": "code",
      "metadata": {
        "id": "ahTAE6ZGbtoc",
        "colab": {
          "base_uri": "https://localhost:8080/",
          "height": 300
        },
        "outputId": "bbf90e11-a04a-411c-cf11-168a0950a34a"
      },
      "source": [
        "df = df.reset_index(drop=True)\n",
        "df.head()"
      ],
      "execution_count": null,
      "outputs": [
        {
          "output_type": "execute_result",
          "data": {
            "text/plain": [
              "   service_type  is_mix_service  online_time  1_total_fee  2_total_fee  \\\n",
              "0             4               0           85       295.96       296.20   \n",
              "1             1               0           10       265.20       261.20   \n",
              "2             1               0           12        44.50        70.20   \n",
              "3             4               0          134        87.95        81.40   \n",
              "4             4               0           84       317.04       314.08   \n",
              "\n",
              "   3_total_fee  4_total_fee  month_traffic  many_over_bill  contract_type  \\\n",
              "0       296.00       296.80    3813.614698               0              1   \n",
              "1       208.50       174.50       0.000000               1              0   \n",
              "2        69.00        61.40    2598.397406               0              0   \n",
              "3        76.00        88.30     988.440563               0              0   \n",
              "4       435.51       413.05    5885.800642               0              1   \n",
              "\n",
              "   ...  local_trafffic_month  local_caller_time  service1_caller_time  \\\n",
              "0  ...           1392.038508         108.100000              0.000000   \n",
              "1  ...          62852.509718         240.100000            355.166667   \n",
              "2  ...           1935.242104          27.666667              0.000000   \n",
              "3  ...            988.561075          89.900000             74.483333   \n",
              "4  ...              0.000000           0.000000             35.100000   \n",
              "\n",
              "   service2_caller_time  gender  age  complaint_level  former_complaint_num  \\\n",
              "0            564.366667       1   31                0                     0   \n",
              "1              0.000000       1   30                0                     0   \n",
              "2             98.416667       2   25                0                     0   \n",
              "3            121.833333       1   44                0                     0   \n",
              "4            496.733333       1   31                2                     1   \n",
              "\n",
              "   former_complaint_fee  current_service  \n",
              "0                   0.0         99999825  \n",
              "1                   0.0         90063345  \n",
              "2                   0.0         90109916  \n",
              "3                   0.0         89950166  \n",
              "4                   0.0         99999825  \n",
              "\n",
              "[5 rows x 25 columns]"
            ],
            "text/html": [
              "\n",
              "  <div id=\"df-6f975889-89e1-4842-b658-ecedf1dcde20\">\n",
              "    <div class=\"colab-df-container\">\n",
              "      <div>\n",
              "<style scoped>\n",
              "    .dataframe tbody tr th:only-of-type {\n",
              "        vertical-align: middle;\n",
              "    }\n",
              "\n",
              "    .dataframe tbody tr th {\n",
              "        vertical-align: top;\n",
              "    }\n",
              "\n",
              "    .dataframe thead th {\n",
              "        text-align: right;\n",
              "    }\n",
              "</style>\n",
              "<table border=\"1\" class=\"dataframe\">\n",
              "  <thead>\n",
              "    <tr style=\"text-align: right;\">\n",
              "      <th></th>\n",
              "      <th>service_type</th>\n",
              "      <th>is_mix_service</th>\n",
              "      <th>online_time</th>\n",
              "      <th>1_total_fee</th>\n",
              "      <th>2_total_fee</th>\n",
              "      <th>3_total_fee</th>\n",
              "      <th>4_total_fee</th>\n",
              "      <th>month_traffic</th>\n",
              "      <th>many_over_bill</th>\n",
              "      <th>contract_type</th>\n",
              "      <th>...</th>\n",
              "      <th>local_trafffic_month</th>\n",
              "      <th>local_caller_time</th>\n",
              "      <th>service1_caller_time</th>\n",
              "      <th>service2_caller_time</th>\n",
              "      <th>gender</th>\n",
              "      <th>age</th>\n",
              "      <th>complaint_level</th>\n",
              "      <th>former_complaint_num</th>\n",
              "      <th>former_complaint_fee</th>\n",
              "      <th>current_service</th>\n",
              "    </tr>\n",
              "  </thead>\n",
              "  <tbody>\n",
              "    <tr>\n",
              "      <th>0</th>\n",
              "      <td>4</td>\n",
              "      <td>0</td>\n",
              "      <td>85</td>\n",
              "      <td>295.96</td>\n",
              "      <td>296.20</td>\n",
              "      <td>296.00</td>\n",
              "      <td>296.80</td>\n",
              "      <td>3813.614698</td>\n",
              "      <td>0</td>\n",
              "      <td>1</td>\n",
              "      <td>...</td>\n",
              "      <td>1392.038508</td>\n",
              "      <td>108.100000</td>\n",
              "      <td>0.000000</td>\n",
              "      <td>564.366667</td>\n",
              "      <td>1</td>\n",
              "      <td>31</td>\n",
              "      <td>0</td>\n",
              "      <td>0</td>\n",
              "      <td>0.0</td>\n",
              "      <td>99999825</td>\n",
              "    </tr>\n",
              "    <tr>\n",
              "      <th>1</th>\n",
              "      <td>1</td>\n",
              "      <td>0</td>\n",
              "      <td>10</td>\n",
              "      <td>265.20</td>\n",
              "      <td>261.20</td>\n",
              "      <td>208.50</td>\n",
              "      <td>174.50</td>\n",
              "      <td>0.000000</td>\n",
              "      <td>1</td>\n",
              "      <td>0</td>\n",
              "      <td>...</td>\n",
              "      <td>62852.509718</td>\n",
              "      <td>240.100000</td>\n",
              "      <td>355.166667</td>\n",
              "      <td>0.000000</td>\n",
              "      <td>1</td>\n",
              "      <td>30</td>\n",
              "      <td>0</td>\n",
              "      <td>0</td>\n",
              "      <td>0.0</td>\n",
              "      <td>90063345</td>\n",
              "    </tr>\n",
              "    <tr>\n",
              "      <th>2</th>\n",
              "      <td>1</td>\n",
              "      <td>0</td>\n",
              "      <td>12</td>\n",
              "      <td>44.50</td>\n",
              "      <td>70.20</td>\n",
              "      <td>69.00</td>\n",
              "      <td>61.40</td>\n",
              "      <td>2598.397406</td>\n",
              "      <td>0</td>\n",
              "      <td>0</td>\n",
              "      <td>...</td>\n",
              "      <td>1935.242104</td>\n",
              "      <td>27.666667</td>\n",
              "      <td>0.000000</td>\n",
              "      <td>98.416667</td>\n",
              "      <td>2</td>\n",
              "      <td>25</td>\n",
              "      <td>0</td>\n",
              "      <td>0</td>\n",
              "      <td>0.0</td>\n",
              "      <td>90109916</td>\n",
              "    </tr>\n",
              "    <tr>\n",
              "      <th>3</th>\n",
              "      <td>4</td>\n",
              "      <td>0</td>\n",
              "      <td>134</td>\n",
              "      <td>87.95</td>\n",
              "      <td>81.40</td>\n",
              "      <td>76.00</td>\n",
              "      <td>88.30</td>\n",
              "      <td>988.440563</td>\n",
              "      <td>0</td>\n",
              "      <td>0</td>\n",
              "      <td>...</td>\n",
              "      <td>988.561075</td>\n",
              "      <td>89.900000</td>\n",
              "      <td>74.483333</td>\n",
              "      <td>121.833333</td>\n",
              "      <td>1</td>\n",
              "      <td>44</td>\n",
              "      <td>0</td>\n",
              "      <td>0</td>\n",
              "      <td>0.0</td>\n",
              "      <td>89950166</td>\n",
              "    </tr>\n",
              "    <tr>\n",
              "      <th>4</th>\n",
              "      <td>4</td>\n",
              "      <td>0</td>\n",
              "      <td>84</td>\n",
              "      <td>317.04</td>\n",
              "      <td>314.08</td>\n",
              "      <td>435.51</td>\n",
              "      <td>413.05</td>\n",
              "      <td>5885.800642</td>\n",
              "      <td>0</td>\n",
              "      <td>1</td>\n",
              "      <td>...</td>\n",
              "      <td>0.000000</td>\n",
              "      <td>0.000000</td>\n",
              "      <td>35.100000</td>\n",
              "      <td>496.733333</td>\n",
              "      <td>1</td>\n",
              "      <td>31</td>\n",
              "      <td>2</td>\n",
              "      <td>1</td>\n",
              "      <td>0.0</td>\n",
              "      <td>99999825</td>\n",
              "    </tr>\n",
              "  </tbody>\n",
              "</table>\n",
              "<p>5 rows × 25 columns</p>\n",
              "</div>\n",
              "      <button class=\"colab-df-convert\" onclick=\"convertToInteractive('df-6f975889-89e1-4842-b658-ecedf1dcde20')\"\n",
              "              title=\"Convert this dataframe to an interactive table.\"\n",
              "              style=\"display:none;\">\n",
              "        \n",
              "  <svg xmlns=\"http://www.w3.org/2000/svg\" height=\"24px\"viewBox=\"0 0 24 24\"\n",
              "       width=\"24px\">\n",
              "    <path d=\"M0 0h24v24H0V0z\" fill=\"none\"/>\n",
              "    <path d=\"M18.56 5.44l.94 2.06.94-2.06 2.06-.94-2.06-.94-.94-2.06-.94 2.06-2.06.94zm-11 1L8.5 8.5l.94-2.06 2.06-.94-2.06-.94L8.5 2.5l-.94 2.06-2.06.94zm10 10l.94 2.06.94-2.06 2.06-.94-2.06-.94-.94-2.06-.94 2.06-2.06.94z\"/><path d=\"M17.41 7.96l-1.37-1.37c-.4-.4-.92-.59-1.43-.59-.52 0-1.04.2-1.43.59L10.3 9.45l-7.72 7.72c-.78.78-.78 2.05 0 2.83L4 21.41c.39.39.9.59 1.41.59.51 0 1.02-.2 1.41-.59l7.78-7.78 2.81-2.81c.8-.78.8-2.07 0-2.86zM5.41 20L4 18.59l7.72-7.72 1.47 1.35L5.41 20z\"/>\n",
              "  </svg>\n",
              "      </button>\n",
              "      \n",
              "  <style>\n",
              "    .colab-df-container {\n",
              "      display:flex;\n",
              "      flex-wrap:wrap;\n",
              "      gap: 12px;\n",
              "    }\n",
              "\n",
              "    .colab-df-convert {\n",
              "      background-color: #E8F0FE;\n",
              "      border: none;\n",
              "      border-radius: 50%;\n",
              "      cursor: pointer;\n",
              "      display: none;\n",
              "      fill: #1967D2;\n",
              "      height: 32px;\n",
              "      padding: 0 0 0 0;\n",
              "      width: 32px;\n",
              "    }\n",
              "\n",
              "    .colab-df-convert:hover {\n",
              "      background-color: #E2EBFA;\n",
              "      box-shadow: 0px 1px 2px rgba(60, 64, 67, 0.3), 0px 1px 3px 1px rgba(60, 64, 67, 0.15);\n",
              "      fill: #174EA6;\n",
              "    }\n",
              "\n",
              "    [theme=dark] .colab-df-convert {\n",
              "      background-color: #3B4455;\n",
              "      fill: #D2E3FC;\n",
              "    }\n",
              "\n",
              "    [theme=dark] .colab-df-convert:hover {\n",
              "      background-color: #434B5C;\n",
              "      box-shadow: 0px 1px 3px 1px rgba(0, 0, 0, 0.15);\n",
              "      filter: drop-shadow(0px 1px 2px rgba(0, 0, 0, 0.3));\n",
              "      fill: #FFFFFF;\n",
              "    }\n",
              "  </style>\n",
              "\n",
              "      <script>\n",
              "        const buttonEl =\n",
              "          document.querySelector('#df-6f975889-89e1-4842-b658-ecedf1dcde20 button.colab-df-convert');\n",
              "        buttonEl.style.display =\n",
              "          google.colab.kernel.accessAllowed ? 'block' : 'none';\n",
              "\n",
              "        async function convertToInteractive(key) {\n",
              "          const element = document.querySelector('#df-6f975889-89e1-4842-b658-ecedf1dcde20');\n",
              "          const dataTable =\n",
              "            await google.colab.kernel.invokeFunction('convertToInteractive',\n",
              "                                                     [key], {});\n",
              "          if (!dataTable) return;\n",
              "\n",
              "          const docLinkHtml = 'Like what you see? Visit the ' +\n",
              "            '<a target=\"_blank\" href=https://colab.research.google.com/notebooks/data_table.ipynb>data table notebook</a>'\n",
              "            + ' to learn more about interactive tables.';\n",
              "          element.innerHTML = '';\n",
              "          dataTable['output_type'] = 'display_data';\n",
              "          await google.colab.output.renderOutput(dataTable, element);\n",
              "          const docLink = document.createElement('div');\n",
              "          docLink.innerHTML = docLinkHtml;\n",
              "          element.appendChild(docLink);\n",
              "        }\n",
              "      </script>\n",
              "    </div>\n",
              "  </div>\n",
              "  "
            ]
          },
          "metadata": {},
          "execution_count": 27
        }
      ]
    },
    {
      "cell_type": "markdown",
      "metadata": {
        "id": "I40CXIETRdAp"
      },
      "source": []
    },
    {
      "cell_type": "code",
      "metadata": {
        "colab": {
          "base_uri": "https://localhost:8080/",
          "height": 300
        },
        "id": "CaeqGwt7L4sE",
        "outputId": "e83364e6-1252-4a6d-bf5a-417522b01c98"
      },
      "source": [
        "dft = dft.reset_index(drop=True)\n",
        "dft.head()"
      ],
      "execution_count": null,
      "outputs": [
        {
          "output_type": "execute_result",
          "data": {
            "text/plain": [
              "   service_type  is_mix_service  online_time  1_total_fee  2_total_fee  \\\n",
              "0             1               0           18         50.4        108.2   \n",
              "1             1               0           16         84.4         78.2   \n",
              "2             1               0            9         80.5         75.6   \n",
              "3             1               0           15         69.3         63.8   \n",
              "4             1               0           18         37.3         33.2   \n",
              "\n",
              "   3_total_fee  4_total_fee  month_traffic  many_over_bill  contract_type  \\\n",
              "0        118.9        177.7          300.0               1              0   \n",
              "1         56.9         80.4            0.0               1              0   \n",
              "2         74.3         93.4            0.0               1              0   \n",
              "3         50.2         62.2            0.0               1              0   \n",
              "4         19.8         19.5            0.0               1              0   \n",
              "\n",
              "   ...  last_month_traffic  local_trafffic_month  local_caller_time  \\\n",
              "0  ...                 0.0           2639.084859          37.783333   \n",
              "1  ...                 0.0          39155.458728           5.183333   \n",
              "2  ...                 0.0          48755.950069          63.866667   \n",
              "3  ...                 0.0              0.000000           5.750000   \n",
              "4  ...                 0.0           5257.352050           4.050000   \n",
              "\n",
              "   service1_caller_time  service2_caller_time  gender  age  complaint_level  \\\n",
              "0             37.783333                   0.0       1   19                0   \n",
              "1             41.833333                   0.0       1   20                0   \n",
              "2             67.666667                   0.0       1   18                0   \n",
              "3             11.483333                   0.0       1   29                0   \n",
              "4              4.383333                   0.0       1   24                0   \n",
              "\n",
              "   former_complaint_num  former_complaint_fee  \n",
              "0                     0                     0  \n",
              "1                     0                     0  \n",
              "2                     0                     0  \n",
              "3                     0                     0  \n",
              "4                     0                     0  \n",
              "\n",
              "[5 rows x 24 columns]"
            ],
            "text/html": [
              "\n",
              "  <div id=\"df-e9660fa3-02f9-4e82-a4e2-b826bb5e0dd5\">\n",
              "    <div class=\"colab-df-container\">\n",
              "      <div>\n",
              "<style scoped>\n",
              "    .dataframe tbody tr th:only-of-type {\n",
              "        vertical-align: middle;\n",
              "    }\n",
              "\n",
              "    .dataframe tbody tr th {\n",
              "        vertical-align: top;\n",
              "    }\n",
              "\n",
              "    .dataframe thead th {\n",
              "        text-align: right;\n",
              "    }\n",
              "</style>\n",
              "<table border=\"1\" class=\"dataframe\">\n",
              "  <thead>\n",
              "    <tr style=\"text-align: right;\">\n",
              "      <th></th>\n",
              "      <th>service_type</th>\n",
              "      <th>is_mix_service</th>\n",
              "      <th>online_time</th>\n",
              "      <th>1_total_fee</th>\n",
              "      <th>2_total_fee</th>\n",
              "      <th>3_total_fee</th>\n",
              "      <th>4_total_fee</th>\n",
              "      <th>month_traffic</th>\n",
              "      <th>many_over_bill</th>\n",
              "      <th>contract_type</th>\n",
              "      <th>...</th>\n",
              "      <th>last_month_traffic</th>\n",
              "      <th>local_trafffic_month</th>\n",
              "      <th>local_caller_time</th>\n",
              "      <th>service1_caller_time</th>\n",
              "      <th>service2_caller_time</th>\n",
              "      <th>gender</th>\n",
              "      <th>age</th>\n",
              "      <th>complaint_level</th>\n",
              "      <th>former_complaint_num</th>\n",
              "      <th>former_complaint_fee</th>\n",
              "    </tr>\n",
              "  </thead>\n",
              "  <tbody>\n",
              "    <tr>\n",
              "      <th>0</th>\n",
              "      <td>1</td>\n",
              "      <td>0</td>\n",
              "      <td>18</td>\n",
              "      <td>50.4</td>\n",
              "      <td>108.2</td>\n",
              "      <td>118.9</td>\n",
              "      <td>177.7</td>\n",
              "      <td>300.0</td>\n",
              "      <td>1</td>\n",
              "      <td>0</td>\n",
              "      <td>...</td>\n",
              "      <td>0.0</td>\n",
              "      <td>2639.084859</td>\n",
              "      <td>37.783333</td>\n",
              "      <td>37.783333</td>\n",
              "      <td>0.0</td>\n",
              "      <td>1</td>\n",
              "      <td>19</td>\n",
              "      <td>0</td>\n",
              "      <td>0</td>\n",
              "      <td>0</td>\n",
              "    </tr>\n",
              "    <tr>\n",
              "      <th>1</th>\n",
              "      <td>1</td>\n",
              "      <td>0</td>\n",
              "      <td>16</td>\n",
              "      <td>84.4</td>\n",
              "      <td>78.2</td>\n",
              "      <td>56.9</td>\n",
              "      <td>80.4</td>\n",
              "      <td>0.0</td>\n",
              "      <td>1</td>\n",
              "      <td>0</td>\n",
              "      <td>...</td>\n",
              "      <td>0.0</td>\n",
              "      <td>39155.458728</td>\n",
              "      <td>5.183333</td>\n",
              "      <td>41.833333</td>\n",
              "      <td>0.0</td>\n",
              "      <td>1</td>\n",
              "      <td>20</td>\n",
              "      <td>0</td>\n",
              "      <td>0</td>\n",
              "      <td>0</td>\n",
              "    </tr>\n",
              "    <tr>\n",
              "      <th>2</th>\n",
              "      <td>1</td>\n",
              "      <td>0</td>\n",
              "      <td>9</td>\n",
              "      <td>80.5</td>\n",
              "      <td>75.6</td>\n",
              "      <td>74.3</td>\n",
              "      <td>93.4</td>\n",
              "      <td>0.0</td>\n",
              "      <td>1</td>\n",
              "      <td>0</td>\n",
              "      <td>...</td>\n",
              "      <td>0.0</td>\n",
              "      <td>48755.950069</td>\n",
              "      <td>63.866667</td>\n",
              "      <td>67.666667</td>\n",
              "      <td>0.0</td>\n",
              "      <td>1</td>\n",
              "      <td>18</td>\n",
              "      <td>0</td>\n",
              "      <td>0</td>\n",
              "      <td>0</td>\n",
              "    </tr>\n",
              "    <tr>\n",
              "      <th>3</th>\n",
              "      <td>1</td>\n",
              "      <td>0</td>\n",
              "      <td>15</td>\n",
              "      <td>69.3</td>\n",
              "      <td>63.8</td>\n",
              "      <td>50.2</td>\n",
              "      <td>62.2</td>\n",
              "      <td>0.0</td>\n",
              "      <td>1</td>\n",
              "      <td>0</td>\n",
              "      <td>...</td>\n",
              "      <td>0.0</td>\n",
              "      <td>0.000000</td>\n",
              "      <td>5.750000</td>\n",
              "      <td>11.483333</td>\n",
              "      <td>0.0</td>\n",
              "      <td>1</td>\n",
              "      <td>29</td>\n",
              "      <td>0</td>\n",
              "      <td>0</td>\n",
              "      <td>0</td>\n",
              "    </tr>\n",
              "    <tr>\n",
              "      <th>4</th>\n",
              "      <td>1</td>\n",
              "      <td>0</td>\n",
              "      <td>18</td>\n",
              "      <td>37.3</td>\n",
              "      <td>33.2</td>\n",
              "      <td>19.8</td>\n",
              "      <td>19.5</td>\n",
              "      <td>0.0</td>\n",
              "      <td>1</td>\n",
              "      <td>0</td>\n",
              "      <td>...</td>\n",
              "      <td>0.0</td>\n",
              "      <td>5257.352050</td>\n",
              "      <td>4.050000</td>\n",
              "      <td>4.383333</td>\n",
              "      <td>0.0</td>\n",
              "      <td>1</td>\n",
              "      <td>24</td>\n",
              "      <td>0</td>\n",
              "      <td>0</td>\n",
              "      <td>0</td>\n",
              "    </tr>\n",
              "  </tbody>\n",
              "</table>\n",
              "<p>5 rows × 24 columns</p>\n",
              "</div>\n",
              "      <button class=\"colab-df-convert\" onclick=\"convertToInteractive('df-e9660fa3-02f9-4e82-a4e2-b826bb5e0dd5')\"\n",
              "              title=\"Convert this dataframe to an interactive table.\"\n",
              "              style=\"display:none;\">\n",
              "        \n",
              "  <svg xmlns=\"http://www.w3.org/2000/svg\" height=\"24px\"viewBox=\"0 0 24 24\"\n",
              "       width=\"24px\">\n",
              "    <path d=\"M0 0h24v24H0V0z\" fill=\"none\"/>\n",
              "    <path d=\"M18.56 5.44l.94 2.06.94-2.06 2.06-.94-2.06-.94-.94-2.06-.94 2.06-2.06.94zm-11 1L8.5 8.5l.94-2.06 2.06-.94-2.06-.94L8.5 2.5l-.94 2.06-2.06.94zm10 10l.94 2.06.94-2.06 2.06-.94-2.06-.94-.94-2.06-.94 2.06-2.06.94z\"/><path d=\"M17.41 7.96l-1.37-1.37c-.4-.4-.92-.59-1.43-.59-.52 0-1.04.2-1.43.59L10.3 9.45l-7.72 7.72c-.78.78-.78 2.05 0 2.83L4 21.41c.39.39.9.59 1.41.59.51 0 1.02-.2 1.41-.59l7.78-7.78 2.81-2.81c.8-.78.8-2.07 0-2.86zM5.41 20L4 18.59l7.72-7.72 1.47 1.35L5.41 20z\"/>\n",
              "  </svg>\n",
              "      </button>\n",
              "      \n",
              "  <style>\n",
              "    .colab-df-container {\n",
              "      display:flex;\n",
              "      flex-wrap:wrap;\n",
              "      gap: 12px;\n",
              "    }\n",
              "\n",
              "    .colab-df-convert {\n",
              "      background-color: #E8F0FE;\n",
              "      border: none;\n",
              "      border-radius: 50%;\n",
              "      cursor: pointer;\n",
              "      display: none;\n",
              "      fill: #1967D2;\n",
              "      height: 32px;\n",
              "      padding: 0 0 0 0;\n",
              "      width: 32px;\n",
              "    }\n",
              "\n",
              "    .colab-df-convert:hover {\n",
              "      background-color: #E2EBFA;\n",
              "      box-shadow: 0px 1px 2px rgba(60, 64, 67, 0.3), 0px 1px 3px 1px rgba(60, 64, 67, 0.15);\n",
              "      fill: #174EA6;\n",
              "    }\n",
              "\n",
              "    [theme=dark] .colab-df-convert {\n",
              "      background-color: #3B4455;\n",
              "      fill: #D2E3FC;\n",
              "    }\n",
              "\n",
              "    [theme=dark] .colab-df-convert:hover {\n",
              "      background-color: #434B5C;\n",
              "      box-shadow: 0px 1px 3px 1px rgba(0, 0, 0, 0.15);\n",
              "      filter: drop-shadow(0px 1px 2px rgba(0, 0, 0, 0.3));\n",
              "      fill: #FFFFFF;\n",
              "    }\n",
              "  </style>\n",
              "\n",
              "      <script>\n",
              "        const buttonEl =\n",
              "          document.querySelector('#df-e9660fa3-02f9-4e82-a4e2-b826bb5e0dd5 button.colab-df-convert');\n",
              "        buttonEl.style.display =\n",
              "          google.colab.kernel.accessAllowed ? 'block' : 'none';\n",
              "\n",
              "        async function convertToInteractive(key) {\n",
              "          const element = document.querySelector('#df-e9660fa3-02f9-4e82-a4e2-b826bb5e0dd5');\n",
              "          const dataTable =\n",
              "            await google.colab.kernel.invokeFunction('convertToInteractive',\n",
              "                                                     [key], {});\n",
              "          if (!dataTable) return;\n",
              "\n",
              "          const docLinkHtml = 'Like what you see? Visit the ' +\n",
              "            '<a target=\"_blank\" href=https://colab.research.google.com/notebooks/data_table.ipynb>data table notebook</a>'\n",
              "            + ' to learn more about interactive tables.';\n",
              "          element.innerHTML = '';\n",
              "          dataTable['output_type'] = 'display_data';\n",
              "          await google.colab.output.renderOutput(dataTable, element);\n",
              "          const docLink = document.createElement('div');\n",
              "          docLink.innerHTML = docLinkHtml;\n",
              "          element.appendChild(docLink);\n",
              "        }\n",
              "      </script>\n",
              "    </div>\n",
              "  </div>\n",
              "  "
            ]
          },
          "metadata": {},
          "execution_count": 28
        }
      ]
    },
    {
      "cell_type": "markdown",
      "metadata": {
        "id": "6OAvxY3sVDLa"
      },
      "source": [
        "простое дерево"
      ]
    },
    {
      "cell_type": "code",
      "metadata": {
        "id": "SEUYmjke3-q_"
      },
      "source": [
        "df = df.drop(['current_service'], axis=1)"
      ],
      "execution_count": null,
      "outputs": []
    },
    {
      "cell_type": "code",
      "metadata": {
        "id": "y35wKUrdVyeV"
      },
      "source": [
        "train_values = df['gender']\n",
        "train_points = df.drop(['gender'], axis=1)\n",
        "\n",
        "test_values = dft['gender']\n",
        "test_points = dft.drop(['gender'], axis=1)"
      ],
      "execution_count": null,
      "outputs": []
    },
    {
      "cell_type": "code",
      "metadata": {
        "id": "lSILijcGWos9",
        "colab": {
          "base_uri": "https://localhost:8080/"
        },
        "outputId": "28e41a3e-b51c-4ef8-f89d-07ef98b28adf"
      },
      "source": [
        "test_points.info()"
      ],
      "execution_count": null,
      "outputs": [
        {
          "output_type": "stream",
          "name": "stdout",
          "text": [
            "<class 'pandas.core.frame.DataFrame'>\n",
            "RangeIndex: 198377 entries, 0 to 198376\n",
            "Data columns (total 23 columns):\n",
            " #   Column                  Non-Null Count   Dtype  \n",
            "---  ------                  --------------   -----  \n",
            " 0   service_type            198377 non-null  int64  \n",
            " 1   is_mix_service          198377 non-null  int64  \n",
            " 2   online_time             198377 non-null  int64  \n",
            " 3   1_total_fee             198377 non-null  float64\n",
            " 4   2_total_fee             198377 non-null  float64\n",
            " 5   3_total_fee             198377 non-null  float64\n",
            " 6   4_total_fee             198377 non-null  float64\n",
            " 7   month_traffic           198377 non-null  float64\n",
            " 8   many_over_bill          198377 non-null  int64  \n",
            " 9   contract_type           198377 non-null  int64  \n",
            " 10  contract_time           198377 non-null  int64  \n",
            " 11  is_promise_low_consume  198377 non-null  int64  \n",
            " 12  net_service             198377 non-null  int64  \n",
            " 13  pay_num                 198377 non-null  float64\n",
            " 14  last_month_traffic      198377 non-null  float64\n",
            " 15  local_trafffic_month    198377 non-null  float64\n",
            " 16  local_caller_time       198377 non-null  float64\n",
            " 17  service1_caller_time    198377 non-null  float64\n",
            " 18  service2_caller_time    198377 non-null  float64\n",
            " 19  age                     198377 non-null  int64  \n",
            " 20  complaint_level         198377 non-null  int64  \n",
            " 21  former_complaint_num    198377 non-null  int64  \n",
            " 22  former_complaint_fee    198377 non-null  int64  \n",
            "dtypes: float64(11), int64(12)\n",
            "memory usage: 34.8 MB\n"
          ]
        }
      ]
    },
    {
      "cell_type": "code",
      "metadata": {
        "id": "58WXJLDcX_kC",
        "colab": {
          "base_uri": "https://localhost:8080/"
        },
        "outputId": "fd074e91-0b94-414d-abef-b4d504a522fc"
      },
      "source": [
        "train_points.info()"
      ],
      "execution_count": null,
      "outputs": [
        {
          "output_type": "stream",
          "name": "stdout",
          "text": [
            "<class 'pandas.core.frame.DataFrame'>\n",
            "RangeIndex: 721076 entries, 0 to 721075\n",
            "Data columns (total 23 columns):\n",
            " #   Column                  Non-Null Count   Dtype  \n",
            "---  ------                  --------------   -----  \n",
            " 0   service_type            721076 non-null  int64  \n",
            " 1   is_mix_service          721076 non-null  int64  \n",
            " 2   online_time             721076 non-null  int64  \n",
            " 3   1_total_fee             721076 non-null  float64\n",
            " 4   2_total_fee             721076 non-null  float64\n",
            " 5   3_total_fee             721076 non-null  float64\n",
            " 6   4_total_fee             721076 non-null  float64\n",
            " 7   month_traffic           721076 non-null  float64\n",
            " 8   many_over_bill          721076 non-null  int64  \n",
            " 9   contract_type           721076 non-null  int64  \n",
            " 10  contract_time           721076 non-null  int64  \n",
            " 11  is_promise_low_consume  721076 non-null  int64  \n",
            " 12  net_service             721076 non-null  int64  \n",
            " 13  pay_num                 721076 non-null  float64\n",
            " 14  last_month_traffic      721076 non-null  float64\n",
            " 15  local_trafffic_month    721076 non-null  float64\n",
            " 16  local_caller_time       721076 non-null  float64\n",
            " 17  service1_caller_time    721076 non-null  float64\n",
            " 18  service2_caller_time    721076 non-null  float64\n",
            " 19  age                     721076 non-null  int64  \n",
            " 20  complaint_level         721076 non-null  int64  \n",
            " 21  former_complaint_num    721076 non-null  int64  \n",
            " 22  former_complaint_fee    721076 non-null  float64\n",
            "dtypes: float64(12), int64(11)\n",
            "memory usage: 126.5 MB\n"
          ]
        }
      ]
    },
    {
      "cell_type": "code",
      "metadata": {
        "colab": {
          "base_uri": "https://localhost:8080/"
        },
        "id": "g-8k_so6MIMe",
        "outputId": "29b6ece4-cc3d-4e79-a5fb-0ef5411da123"
      },
      "source": [
        "rf_model = ensemble.RandomForestClassifier(n_estimators=10)\n",
        "rf_model.fit(train_points, train_values)\n",
        "test_predict_rf = rf_model.predict(test_points)\n",
        "print(accuracy_score(test_values, test_predict_rf))"
      ],
      "execution_count": null,
      "outputs": [
        {
          "output_type": "stream",
          "name": "stdout",
          "text": [
            "0.6873175821793858\n"
          ]
        }
      ]
    },
    {
      "cell_type": "code",
      "metadata": {
        "id": "pkW38GJOVqvw",
        "colab": {
          "base_uri": "https://localhost:8080/"
        },
        "outputId": "b8113aba-d0eb-41f5-c4e8-02a093c028fc"
      },
      "source": [
        "print(accuracy_score(test_values, np.zeros_like(test_values)))"
      ],
      "execution_count": null,
      "outputs": [
        {
          "output_type": "stream",
          "name": "stdout",
          "text": [
            "0.0\n"
          ]
        }
      ]
    },
    {
      "cell_type": "code",
      "metadata": {
        "colab": {
          "base_uri": "https://localhost:8080/"
        },
        "id": "Z7ug9xaP7x5-",
        "outputId": "46221167-c600-45c5-c9d1-c9bcb70116a4"
      },
      "source": [
        "rf_model = ensemble.RandomForestClassifier(n_estimators=100)\n",
        "rf_model.fit(train_points, train_values)\n",
        "test_predict_rf = rf_model.predict(test_points)\n",
        "print(accuracy_score(test_values, test_predict_rf))"
      ],
      "execution_count": null,
      "outputs": [
        {
          "output_type": "stream",
          "name": "stdout",
          "text": [
            "0.702546162105486\n"
          ]
        }
      ]
    },
    {
      "cell_type": "code",
      "metadata": {
        "id": "2zORpFXw94dp"
      },
      "source": [
        "fi = pd.DataFrame({'feature': list(train_points.columns),\n",
        "                   'importance': rf_model.feature_importances_}).\\\n",
        "                    sort_values('importance', ascending = False)"
      ],
      "execution_count": null,
      "outputs": []
    },
    {
      "cell_type": "code",
      "metadata": {
        "colab": {
          "base_uri": "https://localhost:8080/"
        },
        "id": "aBnAS5M896nW",
        "outputId": "6595c26e-5ccf-4bd3-e986-b3b82df7a562"
      },
      "source": [
        "fi"
      ],
      "execution_count": null,
      "outputs": [
        {
          "output_type": "execute_result",
          "data": {
            "text/plain": [
              "                   feature  importance\n",
              "6              4_total_fee    0.093388\n",
              "4              2_total_fee    0.089971\n",
              "3              1_total_fee    0.089646\n",
              "5              3_total_fee    0.089397\n",
              "15    local_trafffic_month    0.087423\n",
              "19                     age    0.075875\n",
              "16       local_caller_time    0.074981\n",
              "2              online_time    0.071683\n",
              "18    service2_caller_time    0.070862\n",
              "13                 pay_num    0.061860\n",
              "7            month_traffic    0.056896\n",
              "17    service1_caller_time    0.055733\n",
              "14      last_month_traffic    0.026376\n",
              "9            contract_type    0.009809\n",
              "10           contract_time    0.009172\n",
              "21    former_complaint_num    0.006093\n",
              "20         complaint_level    0.005480\n",
              "12             net_service    0.005439\n",
              "8           many_over_bill    0.004790\n",
              "0             service_type    0.004127\n",
              "22    former_complaint_fee    0.004116\n",
              "11  is_promise_low_consume    0.003814\n",
              "1           is_mix_service    0.003069"
            ],
            "text/html": [
              "\n",
              "  <div id=\"df-f1d5e329-834f-40a0-984e-a9267bcc3d6d\">\n",
              "    <div class=\"colab-df-container\">\n",
              "      <div>\n",
              "<style scoped>\n",
              "    .dataframe tbody tr th:only-of-type {\n",
              "        vertical-align: middle;\n",
              "    }\n",
              "\n",
              "    .dataframe tbody tr th {\n",
              "        vertical-align: top;\n",
              "    }\n",
              "\n",
              "    .dataframe thead th {\n",
              "        text-align: right;\n",
              "    }\n",
              "</style>\n",
              "<table border=\"1\" class=\"dataframe\">\n",
              "  <thead>\n",
              "    <tr style=\"text-align: right;\">\n",
              "      <th></th>\n",
              "      <th>feature</th>\n",
              "      <th>importance</th>\n",
              "    </tr>\n",
              "  </thead>\n",
              "  <tbody>\n",
              "    <tr>\n",
              "      <th>6</th>\n",
              "      <td>4_total_fee</td>\n",
              "      <td>0.093388</td>\n",
              "    </tr>\n",
              "    <tr>\n",
              "      <th>4</th>\n",
              "      <td>2_total_fee</td>\n",
              "      <td>0.089971</td>\n",
              "    </tr>\n",
              "    <tr>\n",
              "      <th>3</th>\n",
              "      <td>1_total_fee</td>\n",
              "      <td>0.089646</td>\n",
              "    </tr>\n",
              "    <tr>\n",
              "      <th>5</th>\n",
              "      <td>3_total_fee</td>\n",
              "      <td>0.089397</td>\n",
              "    </tr>\n",
              "    <tr>\n",
              "      <th>15</th>\n",
              "      <td>local_trafffic_month</td>\n",
              "      <td>0.087423</td>\n",
              "    </tr>\n",
              "    <tr>\n",
              "      <th>19</th>\n",
              "      <td>age</td>\n",
              "      <td>0.075875</td>\n",
              "    </tr>\n",
              "    <tr>\n",
              "      <th>16</th>\n",
              "      <td>local_caller_time</td>\n",
              "      <td>0.074981</td>\n",
              "    </tr>\n",
              "    <tr>\n",
              "      <th>2</th>\n",
              "      <td>online_time</td>\n",
              "      <td>0.071683</td>\n",
              "    </tr>\n",
              "    <tr>\n",
              "      <th>18</th>\n",
              "      <td>service2_caller_time</td>\n",
              "      <td>0.070862</td>\n",
              "    </tr>\n",
              "    <tr>\n",
              "      <th>13</th>\n",
              "      <td>pay_num</td>\n",
              "      <td>0.061860</td>\n",
              "    </tr>\n",
              "    <tr>\n",
              "      <th>7</th>\n",
              "      <td>month_traffic</td>\n",
              "      <td>0.056896</td>\n",
              "    </tr>\n",
              "    <tr>\n",
              "      <th>17</th>\n",
              "      <td>service1_caller_time</td>\n",
              "      <td>0.055733</td>\n",
              "    </tr>\n",
              "    <tr>\n",
              "      <th>14</th>\n",
              "      <td>last_month_traffic</td>\n",
              "      <td>0.026376</td>\n",
              "    </tr>\n",
              "    <tr>\n",
              "      <th>9</th>\n",
              "      <td>contract_type</td>\n",
              "      <td>0.009809</td>\n",
              "    </tr>\n",
              "    <tr>\n",
              "      <th>10</th>\n",
              "      <td>contract_time</td>\n",
              "      <td>0.009172</td>\n",
              "    </tr>\n",
              "    <tr>\n",
              "      <th>21</th>\n",
              "      <td>former_complaint_num</td>\n",
              "      <td>0.006093</td>\n",
              "    </tr>\n",
              "    <tr>\n",
              "      <th>20</th>\n",
              "      <td>complaint_level</td>\n",
              "      <td>0.005480</td>\n",
              "    </tr>\n",
              "    <tr>\n",
              "      <th>12</th>\n",
              "      <td>net_service</td>\n",
              "      <td>0.005439</td>\n",
              "    </tr>\n",
              "    <tr>\n",
              "      <th>8</th>\n",
              "      <td>many_over_bill</td>\n",
              "      <td>0.004790</td>\n",
              "    </tr>\n",
              "    <tr>\n",
              "      <th>0</th>\n",
              "      <td>service_type</td>\n",
              "      <td>0.004127</td>\n",
              "    </tr>\n",
              "    <tr>\n",
              "      <th>22</th>\n",
              "      <td>former_complaint_fee</td>\n",
              "      <td>0.004116</td>\n",
              "    </tr>\n",
              "    <tr>\n",
              "      <th>11</th>\n",
              "      <td>is_promise_low_consume</td>\n",
              "      <td>0.003814</td>\n",
              "    </tr>\n",
              "    <tr>\n",
              "      <th>1</th>\n",
              "      <td>is_mix_service</td>\n",
              "      <td>0.003069</td>\n",
              "    </tr>\n",
              "  </tbody>\n",
              "</table>\n",
              "</div>\n",
              "      <button class=\"colab-df-convert\" onclick=\"convertToInteractive('df-f1d5e329-834f-40a0-984e-a9267bcc3d6d')\"\n",
              "              title=\"Convert this dataframe to an interactive table.\"\n",
              "              style=\"display:none;\">\n",
              "        \n",
              "  <svg xmlns=\"http://www.w3.org/2000/svg\" height=\"24px\"viewBox=\"0 0 24 24\"\n",
              "       width=\"24px\">\n",
              "    <path d=\"M0 0h24v24H0V0z\" fill=\"none\"/>\n",
              "    <path d=\"M18.56 5.44l.94 2.06.94-2.06 2.06-.94-2.06-.94-.94-2.06-.94 2.06-2.06.94zm-11 1L8.5 8.5l.94-2.06 2.06-.94-2.06-.94L8.5 2.5l-.94 2.06-2.06.94zm10 10l.94 2.06.94-2.06 2.06-.94-2.06-.94-.94-2.06-.94 2.06-2.06.94z\"/><path d=\"M17.41 7.96l-1.37-1.37c-.4-.4-.92-.59-1.43-.59-.52 0-1.04.2-1.43.59L10.3 9.45l-7.72 7.72c-.78.78-.78 2.05 0 2.83L4 21.41c.39.39.9.59 1.41.59.51 0 1.02-.2 1.41-.59l7.78-7.78 2.81-2.81c.8-.78.8-2.07 0-2.86zM5.41 20L4 18.59l7.72-7.72 1.47 1.35L5.41 20z\"/>\n",
              "  </svg>\n",
              "      </button>\n",
              "      \n",
              "  <style>\n",
              "    .colab-df-container {\n",
              "      display:flex;\n",
              "      flex-wrap:wrap;\n",
              "      gap: 12px;\n",
              "    }\n",
              "\n",
              "    .colab-df-convert {\n",
              "      background-color: #E8F0FE;\n",
              "      border: none;\n",
              "      border-radius: 50%;\n",
              "      cursor: pointer;\n",
              "      display: none;\n",
              "      fill: #1967D2;\n",
              "      height: 32px;\n",
              "      padding: 0 0 0 0;\n",
              "      width: 32px;\n",
              "    }\n",
              "\n",
              "    .colab-df-convert:hover {\n",
              "      background-color: #E2EBFA;\n",
              "      box-shadow: 0px 1px 2px rgba(60, 64, 67, 0.3), 0px 1px 3px 1px rgba(60, 64, 67, 0.15);\n",
              "      fill: #174EA6;\n",
              "    }\n",
              "\n",
              "    [theme=dark] .colab-df-convert {\n",
              "      background-color: #3B4455;\n",
              "      fill: #D2E3FC;\n",
              "    }\n",
              "\n",
              "    [theme=dark] .colab-df-convert:hover {\n",
              "      background-color: #434B5C;\n",
              "      box-shadow: 0px 1px 3px 1px rgba(0, 0, 0, 0.15);\n",
              "      filter: drop-shadow(0px 1px 2px rgba(0, 0, 0, 0.3));\n",
              "      fill: #FFFFFF;\n",
              "    }\n",
              "  </style>\n",
              "\n",
              "      <script>\n",
              "        const buttonEl =\n",
              "          document.querySelector('#df-f1d5e329-834f-40a0-984e-a9267bcc3d6d button.colab-df-convert');\n",
              "        buttonEl.style.display =\n",
              "          google.colab.kernel.accessAllowed ? 'block' : 'none';\n",
              "\n",
              "        async function convertToInteractive(key) {\n",
              "          const element = document.querySelector('#df-f1d5e329-834f-40a0-984e-a9267bcc3d6d');\n",
              "          const dataTable =\n",
              "            await google.colab.kernel.invokeFunction('convertToInteractive',\n",
              "                                                     [key], {});\n",
              "          if (!dataTable) return;\n",
              "\n",
              "          const docLinkHtml = 'Like what you see? Visit the ' +\n",
              "            '<a target=\"_blank\" href=https://colab.research.google.com/notebooks/data_table.ipynb>data table notebook</a>'\n",
              "            + ' to learn more about interactive tables.';\n",
              "          element.innerHTML = '';\n",
              "          dataTable['output_type'] = 'display_data';\n",
              "          await google.colab.output.renderOutput(dataTable, element);\n",
              "          const docLink = document.createElement('div');\n",
              "          docLink.innerHTML = docLinkHtml;\n",
              "          element.appendChild(docLink);\n",
              "        }\n",
              "      </script>\n",
              "    </div>\n",
              "  </div>\n",
              "  "
            ]
          },
          "metadata": {},
          "execution_count": 37
        }
      ]
    }
  ]
}